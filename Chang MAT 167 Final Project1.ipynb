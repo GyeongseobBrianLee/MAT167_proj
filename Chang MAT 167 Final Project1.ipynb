{
 "cells": [
  {
   "cell_type": "code",
   "execution_count": null,
   "metadata": {},
   "outputs": [],
   "source": [
    "import numpy as np\n",
    "\n",
    "G = np.array([\n",
    "    [0, 1/2, 0, 0, 1/2, 0, 0, 0, 0, 0, 0, 0],       # A\n",
    "    [1/3, 0, 1/3, 1/3, 0, 0, 0, 0, 0, 0, 0, 0],     # B\n",
    "    [0, 1/2, 0, 1/2, 0, 0, 0, 0, 0, 0, 0, 0],       # C\n",
    "    [1/3, 0, 0, 0, 0, 1/3, 0, 0, 1/3, 0, 0, 0],     # D\n",
    "    [0, 0, 0, 1/2, 0, 0, 0, 1/2, 0, 0, 0, 0],       # E\n",
    "    [0, 0, 0, 0, 1/2, 0, 0, 0, 1/2, 0, 0, 0],       # F\n",
    "    [0, 0, 1/4, 1/4, 0, 0, 0, 0, 1/4, 0, 0, 1/4],   # G\n",
    "    [0, 0, 0, 0, 1/5, 1/5, 0, 0, 1/5, 1/5, 1/5, 0], # H\n",
    "    [0, 0, 0, 0, 0, 0, 0, 0, 0, 0, 0, 1],           # I\n",
    "    [0, 0, 0, 0, 0, 0, 0, 0, 0, 0, 0, 0],           # J\n",
    "    [0, 0, 0, 0, 0, 0, 0, 0, 1/3, 1/3, 0, 1/3],     # K\n",
    "    [0, 0, 0, 0, 0, 0, 1, 0, 0, 0, 0, 0]            # L\n",
    "])\n",
    "\n",
    "#E: Transpose\n",
    "G_T = G.T\n",
    "\n",
    "#F: Eigenvalues and eigenvectors\n",
    "eigenvalues, eigenvectors = np.linalg.eig(G_T)\n",
    "\n",
    "#G: Dominant eigenvector (corresponding to eigenvalue 1)\n",
    "dominant_eigenvector = eigenvectors[:, np.isclose(eigenvalues, 1)].flatten()\n",
    "\n",
    "dominant_eigenvector = np.real(dominant_eigenvector)\n",
    "\n",
    "#H: Normalize dominant eigenvector\n",
    "dominant_eigenvector /= np.sum(dominant_eigenvector)\n",
    "\n",
    "# All entries are positive?\n",
    "if np.any(dominant_eigenvector < 0):\n",
    "    dominant_eigenvector = -dominant_eigenvector\n",
    "\n",
    "print(\"Dominant eigenvector (PageRank vector):\", dominant_eigenvector)\n",
    "print(\"Eigenvalues:\", eigenvalues)\n",
    "\n",
    "#I: Ranking pages\n",
    "ranking = np.argsort(dominant_eigenvector)[::-1]  \n",
    "pages = ['A', 'B', 'C', 'D', 'E', 'F', 'G', 'H', 'I', 'J', 'K', 'L']\n",
    "ranked_pages = [pages[i] for i in ranking]\n",
    "\n",
    "print(\"Page Ranking:\", ranked_pages)"
   ]
  }
 ],
 "metadata": {
  "language_info": {
   "name": "python"
  }
 },
 "nbformat": 4,
 "nbformat_minor": 2
}
