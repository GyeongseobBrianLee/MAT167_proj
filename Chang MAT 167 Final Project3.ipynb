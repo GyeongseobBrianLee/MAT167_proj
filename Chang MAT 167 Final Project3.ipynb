{
 "cells": [
  {
   "cell_type": "code",
   "execution_count": 2,
   "metadata": {},
   "outputs": [
    {
     "data": {
      "text/plain": [
       "array([1., 1., 1., 1., 1., 1., 1., 1., 1., 0., 1., 1.])"
      ]
     },
     "execution_count": 2,
     "metadata": {},
     "output_type": "execute_result"
    }
   ],
   "source": [
    "#1)\n",
    "\n",
    "import numpy as np\n",
    "\n",
    "G = np.array([\n",
    "    [0, 1/2, 0, 0, 1/2, 0, 0, 0, 0, 0, 0, 0],       # A\n",
    "    [1/3, 0, 1/3, 1/3, 0, 0, 0, 0, 0, 0, 0, 0],     # B\n",
    "    [0, 1/2, 0, 1/2, 0, 0, 0, 0, 0, 0, 0, 0],       # C\n",
    "    [1/3, 0, 0, 0, 0, 1/3, 0, 0, 1/3, 0, 0, 0],     # D\n",
    "    [0, 0, 0, 1/2, 0, 0, 0, 1/2, 0, 0, 0, 0],       # E\n",
    "    [0, 0, 0, 0, 1/2, 0, 0, 0, 1/2, 0, 0, 0],       # F\n",
    "    [0, 0, 1/4, 1/4, 0, 0, 0, 0, 1/4, 0, 0, 1/4],   # G\n",
    "    [0, 0, 0, 0, 1/5, 1/5, 0, 0, 1/5, 1/5, 1/5, 0], # H\n",
    "    [0, 0, 0, 0, 0, 0, 0, 0, 0, 0, 0, 1],           # I\n",
    "    [0, 0, 0, 0, 0, 0, 0, 0, 0, 0, 0, 0],           # J\n",
    "    [0, 0, 0, 0, 0, 0, 0, 0, 1/3, 1/3, 0, 1/3],     # K\n",
    "    [0, 0, 0, 0, 0, 0, 1, 0, 0, 0, 0, 0]            # L\n",
    "])\n",
    "\n",
    "# Check row sums\n",
    "row_sums = G.sum(axis=1)\n",
    "row_sums"
   ]
  },
  {
   "cell_type": "code",
   "execution_count": 3,
   "metadata": {},
   "outputs": [
    {
     "data": {
      "text/plain": [
       "array([0.06974077, 0.06964627, 0.06823918, 0.13760448, 0.06918413,\n",
       "       0.05335517, 0.17752289, 0.03492114, 0.12746202, 0.00942325,\n",
       "       0.00705067, 0.17585004])"
      ]
     },
     "execution_count": 3,
     "metadata": {},
     "output_type": "execute_result"
    }
   ],
   "source": [
    "#2: Eigenvalue decomposition\n",
    "eigvals, eigvecs = np.linalg.eig(G.T)\n",
    "\n",
    "#3: Find the eigenvector corresponding to the eigenvalue 1\n",
    "eig_index = np.argmin(np.abs(eigvals - 1))\n",
    "pi = eigvecs[:, eig_index].real\n",
    "\n",
    "# Normalize the eigenvector\n",
    "pi = pi / np.sum(pi)\n",
    "pi"
   ]
  },
  {
   "cell_type": "code",
   "execution_count": 4,
   "metadata": {},
   "outputs": [
    {
     "data": {
      "text/plain": [
       "array([0.0698299 , 0.0698299 , 0.06803939, 0.13697404, 0.0698299 ,\n",
       "       0.05371531, 0.17547001, 0.03581021, 0.12712623, 0.01074306,\n",
       "       0.0080573 , 0.17457475])"
      ]
     },
     "execution_count": 4,
     "metadata": {},
     "output_type": "execute_result"
    }
   ],
   "source": [
    "#4: Fix dangling nodes\n",
    "dangling_nodes = np.where(row_sums == 0)[0]\n",
    "for node in dangling_nodes:\n",
    "    G[node, :] = 1 / G.shape[1]\n",
    "\n",
    "# Recompute row sums to ensure they sum to 1\n",
    "G = G / G.sum(axis=1, keepdims=True)\n",
    "\n",
    "# Eigenvalue decomposition again\n",
    "eigvals, eigvecs = np.linalg.eig(G.T)\n",
    "\n",
    "# Find the eigenvector corresponding to the eigenvalue 1\n",
    "eig_index = np.argmin(np.abs(eigvals - 1))\n",
    "pi = eigvecs[:, eig_index].real\n",
    "\n",
    "#6: Normalize the eigenvector\n",
    "pi = pi / np.sum(pi)\n",
    "pi"
   ]
  },
  {
   "cell_type": "code",
   "execution_count": 6,
   "metadata": {},
   "outputs": [
    {
     "data": {
      "text/plain": [
       "array([0.0715815 , 0.07325075, 0.06650942, 0.12799417, 0.07816056,\n",
       "       0.05894978, 0.14679029, 0.04778035, 0.12162373, 0.02911212,\n",
       "       0.02268477, 0.15556256])"
      ]
     },
     "execution_count": 6,
     "metadata": {},
     "output_type": "execute_result"
    }
   ],
   "source": [
    "#9: Not strongly connected\n",
    "alpha = 0.85\n",
    "n = G.shape[1]\n",
    "E = np.ones((n, n)) / n\n",
    "G_tilde = alpha * G + (1 - alpha) * E\n",
    "\n",
    "#10: Eigenvalue decomposition of G_tilde\n",
    "eigvals, eigvecs = np.linalg.eig(G_tilde.T)\n",
    "\n",
    "# Find the eigenvector corresponding to the eigenvalue 1\n",
    "eig_index = np.argmin(np.abs(eigvals - 1))\n",
    "pi_tilde = eigvecs[:, eig_index].real\n",
    "\n",
    "# Normalize the eigenvector\n",
    "pi_tilde = pi_tilde / np.sum(pi_tilde)\n",
    "pi_tilde"
   ]
  },
  {
   "cell_type": "code",
   "execution_count": 8,
   "metadata": {},
   "outputs": [
    {
     "data": {
      "text/plain": [
       "array([6, 3, 8, 1, 0], dtype=int64)"
      ]
     },
     "execution_count": 8,
     "metadata": {},
     "output_type": "execute_result"
    }
   ],
   "source": [
    "#5)\n",
    "\n",
    "# Term-document matrix (T) and query vector (q)\n",
    "keywords = [\n",
    "    [\"Apples\", \"Bananas\", \"Broccoli\", \"Cabbage\", \"Kumquats\", \"Strawberries\"],                # Page A\n",
    "    [\"Oranges\", \"Plums\", \"Coconuts\", \"Kumquats\", \"Blueberries\", \"Cherries\", \"Strawberries\"], # Page B\n",
    "    [\"Lettuce\", \"Spinach\", \"Bananas\", \"Blackberries\", \"Peas\", \"Strawberries\"],               # Page C\n",
    "    [\"Oranges\", \"Onions\", \"Celery\", \"Kumquats\", \"Corn\", \"Radishes\"],                         # Page D\n",
    "    [\"Pineapples\", \"Plums\", \"Corn\", \"Cherries\", \"Broccoli\", \"Peas\", \"Strawberries\"],         # Page E\n",
    "    [\"Lettuce\", \"Onions\", \"Coconuts\", \"Spinach\", \"Peas\", \"Strawberries\"],                    # Page F\n",
    "    [\"Apples\", \"Onions\", \"Broccoli\", \"Corn\", \"Cabbage\", \"Peas\"],                             # Page G\n",
    "    [\"Plums\", \"Blueberries\", \"Raspberries\", \"Blackberries\", \"Strawberries\"],                 # Page H\n",
    "    [\"Apples\", \"Cucumbers\", \"Carrots\", \"Spinach\", \"Corn\", \"Black Beans\", \"Cabbage\"],         # Page I\n",
    "    [\"Mushrooms\", \"Carrots\", \"Lettuce\", \"Radishes\", \"Peppers\", \"Broccoli\", \"Spinach\"],       # Page J\n",
    "    [\"Carrots\", \"Lettuce\", \"Celery\", \"Onions\", \"Cabbage\", \"Peas\"],                           # Page K\n",
    "    [\"Broccoli\", \"Cabbage\", \"Carrots\", \"Spinach\", \"Corn\", \"Peas\"]                            # Page L\n",
    "]\n",
    "\n",
    "# Creating the term-document matrix T\n",
    "all_keywords = list(set(sum(keywords, [])))\n",
    "T = np.zeros((len(all_keywords), len(keywords)))\n",
    "\n",
    "for j, page_keywords in enumerate(keywords):\n",
    "    for keyword in page_keywords:\n",
    "        i = all_keywords.index(keyword)\n",
    "        T[i, j] = 1\n",
    "\n",
    "# Example user query\n",
    "query_keywords = [\"Apples\", \"Oranges\"]\n",
    "q = np.zeros(len(all_keywords))\n",
    "for keyword in query_keywords:\n",
    "    if keyword in all_keywords:\n",
    "        i = all_keywords.index(keyword)\n",
    "        q[i] = 1\n",
    "\n",
    "# Compute d^T = q^T T\n",
    "d = np.dot(q, T)\n",
    "\n",
    "# Responsive webpages\n",
    "responsive_webpages = np.where(d > 0)[0]\n",
    "\n",
    "# Rank the responsive webpages using pi_tilde\n",
    "pi_tilde = pi_tilde\n",
    "responsive_ranking = np.argsort(-pi_tilde[responsive_webpages])\n",
    "responsive_webpages_ranked = responsive_webpages[responsive_ranking]\n",
    "\n",
    "responsive_webpages_ranked"
   ]
  },
  {
   "cell_type": "code",
   "execution_count": 2,
   "metadata": {},
   "outputs": [
    {
     "name": "stdout",
     "output_type": "stream",
     "text": [
      "Google Matrix (G):\n",
      "[[0.         0.5        0.         0.         0.5        0.\n",
      "  0.         0.         0.         0.         0.         0.        ]\n",
      " [0.33333333 0.         0.33333333 0.33333333 0.         0.\n",
      "  0.         0.         0.         0.         0.         0.        ]\n",
      " [0.         0.5        0.         0.5        0.         0.\n",
      "  0.         0.         0.         0.         0.         0.        ]\n",
      " [0.33333333 0.         0.         0.         0.         0.33333333\n",
      "  0.         0.         0.33333333 0.         0.         0.        ]\n",
      " [0.         0.         0.         0.5        0.         0.\n",
      "  0.         0.5        0.         0.         0.         0.        ]\n",
      " [0.         0.         0.         0.         0.5        0.\n",
      "  0.         0.         0.5        0.         0.         0.        ]\n",
      " [0.         0.         0.25       0.25       0.         0.\n",
      "  0.         0.         0.25       0.         0.         0.25      ]\n",
      " [0.         0.         0.         0.         0.2        0.2\n",
      "  0.         0.         0.2        0.2        0.2        0.        ]\n",
      " [0.         0.         0.         0.         0.         0.\n",
      "  0.         0.         0.         0.         0.         1.        ]\n",
      " [0.08333333 0.08333333 0.08333333 0.08333333 0.08333333 0.08333333\n",
      "  0.08333333 0.08333333 0.08333333 0.08333333 0.08333333 0.08333333]\n",
      " [0.         0.         0.         0.         0.         0.\n",
      "  0.         0.         0.33333333 0.33333333 0.         0.33333333]\n",
      " [0.         0.         0.         0.         0.         0.\n",
      "  1.         0.         0.         0.         0.         0.        ]]\n",
      "\n",
      "PageRank Vector (pi):\n",
      "[0.06982991 0.06982992 0.06803934 0.13697408 0.06982984 0.0537153\n",
      " 0.17547003 0.03581026 0.12712615 0.01074305 0.00805729 0.17457483]\n",
      "\n",
      "Modified Google Matrix (G_tilde):\n",
      "[[0.0125     0.4375     0.0125     0.0125     0.4375     0.0125\n",
      "  0.0125     0.0125     0.0125     0.0125     0.0125     0.0125    ]\n",
      " [0.29583333 0.0125     0.29583333 0.29583333 0.0125     0.0125\n",
      "  0.0125     0.0125     0.0125     0.0125     0.0125     0.0125    ]\n",
      " [0.0125     0.4375     0.0125     0.4375     0.0125     0.0125\n",
      "  0.0125     0.0125     0.0125     0.0125     0.0125     0.0125    ]\n",
      " [0.29583333 0.0125     0.0125     0.0125     0.0125     0.29583333\n",
      "  0.0125     0.0125     0.29583333 0.0125     0.0125     0.0125    ]\n",
      " [0.0125     0.0125     0.0125     0.4375     0.0125     0.0125\n",
      "  0.0125     0.4375     0.0125     0.0125     0.0125     0.0125    ]\n",
      " [0.0125     0.0125     0.0125     0.0125     0.4375     0.0125\n",
      "  0.0125     0.0125     0.4375     0.0125     0.0125     0.0125    ]\n",
      " [0.0125     0.0125     0.225      0.225      0.0125     0.0125\n",
      "  0.0125     0.0125     0.225      0.0125     0.0125     0.225     ]\n",
      " [0.0125     0.0125     0.0125     0.0125     0.1825     0.1825\n",
      "  0.0125     0.0125     0.1825     0.1825     0.1825     0.0125    ]\n",
      " [0.0125     0.0125     0.0125     0.0125     0.0125     0.0125\n",
      "  0.0125     0.0125     0.0125     0.0125     0.0125     0.8625    ]\n",
      " [0.08333333 0.08333333 0.08333333 0.08333333 0.08333333 0.08333333\n",
      "  0.08333333 0.08333333 0.08333333 0.08333333 0.08333333 0.08333333]\n",
      " [0.0125     0.0125     0.0125     0.0125     0.0125     0.0125\n",
      "  0.0125     0.0125     0.29583333 0.29583333 0.0125     0.29583333]\n",
      " [0.0125     0.0125     0.0125     0.0125     0.0125     0.0125\n",
      "  0.8625     0.0125     0.0125     0.0125     0.0125     0.0125    ]]\n",
      "\n",
      "Modified PageRank Vector (pi_tilde):\n",
      "[0.07158147 0.07325076 0.06650948 0.12799415 0.07816064 0.05894977\n",
      " 0.14679015 0.04778031 0.12162382 0.02911213 0.02268477 0.15556255]\n",
      "\n",
      "Query Vector (q):\n",
      "[0. 0. 0. 0. 0. 0. 0. 1. 0. 0. 0. 0. 0. 0. 0. 0. 0. 0. 0. 0. 0. 0. 0. 0.\n",
      " 0. 0.]\n",
      "\n",
      "Term-Document Matrix (T):\n",
      "[[1. 0. 0. 0. 1. 0. 1. 0. 0. 1. 0. 1.]\n",
      " [0. 0. 0. 0. 0. 0. 0. 0. 1. 0. 0. 0.]\n",
      " [1. 1. 1. 0. 1. 1. 0. 1. 0. 0. 0. 0.]\n",
      " [0. 0. 1. 0. 0. 0. 0. 1. 0. 0. 0. 0.]\n",
      " [1. 0. 0. 0. 0. 0. 1. 0. 1. 0. 0. 0.]\n",
      " [0. 1. 0. 0. 0. 0. 0. 1. 0. 0. 0. 0.]\n",
      " [0. 0. 0. 0. 0. 0. 0. 1. 0. 0. 0. 0.]\n",
      " [0. 1. 0. 1. 0. 0. 0. 0. 0. 0. 0. 0.]\n",
      " [0. 0. 0. 0. 0. 0. 0. 0. 0. 1. 0. 0.]\n",
      " [0. 1. 0. 0. 1. 0. 0. 1. 0. 0. 0. 0.]\n",
      " [0. 0. 0. 1. 0. 1. 1. 0. 0. 0. 1. 0.]\n",
      " [1. 0. 0. 0. 0. 0. 1. 0. 1. 0. 1. 1.]\n",
      " [0. 0. 1. 0. 1. 1. 1. 0. 0. 0. 1. 1.]\n",
      " [0. 0. 0. 0. 0. 0. 0. 0. 1. 1. 1. 1.]\n",
      " [0. 1. 0. 0. 1. 0. 0. 0. 0. 0. 0. 0.]\n",
      " [0. 0. 0. 1. 0. 0. 0. 0. 0. 1. 0. 0.]\n",
      " [0. 0. 0. 0. 1. 0. 0. 0. 0. 0. 0. 0.]\n",
      " [0. 0. 0. 0. 0. 0. 0. 0. 0. 1. 0. 0.]\n",
      " [0. 0. 1. 0. 0. 1. 0. 0. 1. 1. 0. 1.]\n",
      " [1. 0. 1. 0. 0. 0. 0. 0. 0. 0. 0. 0.]\n",
      " [0. 0. 1. 0. 0. 1. 0. 0. 0. 1. 1. 0.]\n",
      " [0. 0. 0. 1. 0. 0. 0. 0. 0. 0. 1. 0.]\n",
      " [0. 0. 0. 1. 1. 0. 1. 0. 1. 0. 0. 1.]\n",
      " [1. 1. 0. 1. 0. 0. 0. 0. 0. 0. 0. 0.]\n",
      " [0. 0. 0. 0. 0. 0. 0. 0. 1. 0. 0. 0.]\n",
      " [0. 1. 0. 0. 0. 1. 0. 0. 0. 0. 0. 0.]]\n",
      "\n",
      "Responsiveness Vector (d):\n",
      "[0. 1. 0. 1. 0. 0. 0. 0. 0. 0. 0. 0.]\n",
      "\n",
      "Final Ranking of Responsive Webpages:\n",
      "[3, 1]\n"
     ]
    }
   ],
   "source": [
    "# 1. Define the raw Google Matrix, G\n",
    "\n",
    "import numpy as np\n",
    "\n",
    "G = np.array([\n",
    "    [0, 1/2, 0, 0, 1/2, 0, 0, 0, 0, 0, 0, 0],       # A\n",
    "    [1/3, 0, 1/3, 1/3, 0, 0, 0, 0, 0, 0, 0, 0],     # B\n",
    "    [0, 1/2, 0, 1/2, 0, 0, 0, 0, 0, 0, 0, 0],       # C\n",
    "    [1/3, 0, 0, 0, 0, 1/3, 0, 0, 1/3, 0, 0, 0],     # D\n",
    "    [0, 0, 0, 1/2, 0, 0, 0, 1/2, 0, 0, 0, 0],       # E\n",
    "    [0, 0, 0, 0, 1/2, 0, 0, 0, 1/2, 0, 0, 0],       # F\n",
    "    [0, 0, 1/4, 1/4, 0, 0, 0, 0, 1/4, 0, 0, 1/4],   # G\n",
    "    [0, 0, 0, 0, 1/5, 1/5, 0, 0, 1/5, 1/5, 1/5, 0], # H\n",
    "    [0, 0, 0, 0, 0, 0, 0, 0, 0, 0, 0, 1],           # I\n",
    "    [0, 0, 0, 0, 0, 0, 0, 0, 0, 0, 0, 0],           # J\n",
    "    [0, 0, 0, 0, 0, 0, 0, 0, 1/3, 1/3, 0, 1/3],     # K\n",
    "    [0, 0, 0, 0, 0, 0, 1, 0, 0, 0, 0, 0]            # L\n",
    "])\n"
   ]
  },
  {
   "cell_type": "code",
   "execution_count": null,
   "metadata": {},
   "outputs": [],
   "source": [
    "\n",
    "# 2. Fix dangling nodes (rows with all zeros), and normalize\n",
    "n = G.shape[0]\n",
    "for i in range(n):\n",
    "    if np.sum(G[i, :]) == 0:\n",
    "        G[i, :] = 1 / n  # Distribute to all nodes\n",
    "\n",
    "# Normalize G to ensure all rows sum to 1\n",
    "G = G / G.sum(axis=1, keepdims=True)\n",
    "\n"
   ]
  },
  {
   "cell_type": "code",
   "execution_count": null,
   "metadata": {},
   "outputs": [],
   "source": [
    "# 3. Power method to find the principal eigenvector (PageRank vector)\n",
    "def power_method(G, eps=1e-6, max_iter=100):\n",
    "    n = G.shape[0]\n",
    "    pi = np.ones(n) / n\n",
    "    for i in range(max_iter):\n",
    "        pi_new = G.T @ pi\n",
    "        if np.linalg.norm(pi_new - pi, 1) < eps:\n",
    "            break\n",
    "        pi = pi_new\n",
    "    return pi / np.sum(pi)\n",
    "\n",
    "pi = power_method(G)\n"
   ]
  },
  {
   "cell_type": "code",
   "execution_count": null,
   "metadata": {},
   "outputs": [],
   "source": [
    "\n",
    "# 4. Construct the modified Google matrix with teleportation\n",
    "alpha = 0.85\n",
    "E = np.ones((n, n)) / n\n",
    "G_tilde = alpha * G + (1 - alpha) * E\n"
   ]
  },
  {
   "cell_type": "code",
   "execution_count": null,
   "metadata": {},
   "outputs": [],
   "source": [
    "\n",
    "# 5. Power method on G_tilde\n",
    "pi_tilde = power_method(G_tilde)\n"
   ]
  },
  {
   "cell_type": "code",
   "execution_count": null,
   "metadata": {},
   "outputs": [],
   "source": [
    "\n",
    "# 6. Normalization\n",
    "pi = pi / np.sum(pi)\n",
    "pi_tilde = pi_tilde / np.sum(pi_tilde)\n"
   ]
  },
  {
   "cell_type": "code",
   "execution_count": null,
   "metadata": {},
   "outputs": [],
   "source": [
    "\n",
    "# 7. Keyword data\n",
    "keywords = [\n",
    "    [\"Apples\", \"Bananas\", \"Broccoli\", \"Cabbage\", \"Kumquats\", \"Strawberries\"],                # Page A,1\n",
    "    [\"Oranges\", \"Plums\", \"Coconuts\", \"Kumquats\", \"Blueberries\", \"Cherries\", \"Strawberries\"], # Page B,2\n",
    "    [\"Lettuce\", \"Spinach\", \"Bananas\", \"Blackberries\", \"Peas\", \"Strawberries\"],               # Page C,3\n",
    "    [\"Oranges\", \"Onions\", \"Celery\", \"Kumquats\", \"Corn\", \"Radishes\"],                         # Page D,4\n",
    "    [\"Pineapples\", \"Plums\", \"Corn\", \"Cherries\", \"Broccoli\", \"Peas\", \"Strawberries\"],         # Page E,5\n",
    "    [\"Lettuce\", \"Onions\", \"Coconuts\", \"Spinach\", \"Peas\", \"Strawberries\"],                    # Page F,6\n",
    "    [\"Apples\", \"Onions\", \"Broccoli\", \"Corn\", \"Cabbage\", \"Peas\"],                             # Page G,7\n",
    "    [\"Plums\", \"Blueberries\", \"Raspberries\", \"Blackberries\", \"Strawberries\"],                 # Page H,8\n",
    "    [\"Apples\", \"Cucumbers\", \"Carrots\", \"Spinach\", \"Corn\", \"Black Beans\", \"Cabbage\"],         # Page I,9\n",
    "    [\"Mushrooms\", \"Carrots\", \"Lettuce\", \"Radishes\", \"Peppers\", \"Broccoli\", \"Spinach\"],       # Page J,10\n",
    "    [\"Carrots\", \"Lettuce\", \"Celery\", \"Onions\", \"Cabbage\", \"Peas\"],                           # Page K,11\n",
    "    [\"Broccoli\", \"Cabbage\", \"Carrots\", \"Spinach\", \"Corn\", \"Peas\"]                            # Page L,12\n",
    "]\n",
    "\n",
    "# User query\n",
    "query = [\"Apple\", \"Oranges\"]\n"
   ]
  },
  {
   "cell_type": "code",
   "execution_count": null,
   "metadata": {},
   "outputs": [],
   "source": [
    "\n",
    "# 8. Construct Term-Document Matrix T\n",
    "terms = list(set([term for sublist in keywords for term in sublist]))  # Unique terms\n",
    "T = np.zeros((len(terms), n))\n",
    "for j in range(n):\n",
    "    for term in keywords[j]:\n",
    "        i = terms.index(term)\n",
    "        T[i, j] = 1\n"
   ]
  },
  {
   "cell_type": "code",
   "execution_count": null,
   "metadata": {},
   "outputs": [],
   "source": [
    "\n",
    "# 9. Create query vector q\n",
    "q = np.zeros(len(terms))\n",
    "for term in query:\n",
    "    if term in terms:\n",
    "        q[terms.index(term)] = 1\n"
   ]
  },
  {
   "cell_type": "code",
   "execution_count": null,
   "metadata": {},
   "outputs": [],
   "source": [
    "\n",
    "# 10. Compute dᵀ = qᵀ T\n",
    "d = q.T @ T\n"
   ]
  },
  {
   "cell_type": "code",
   "execution_count": null,
   "metadata": {},
   "outputs": [],
   "source": [
    "\n",
    "# 11. Rank webpages by importance and responsiveness\n",
    "responsive_pages = np.argsort(-d)\n",
    "importance_ranking = np.argsort(-pi_tilde)\n"
   ]
  },
  {
   "cell_type": "code",
   "execution_count": null,
   "metadata": {},
   "outputs": [],
   "source": [
    "\n",
    "# 12. Final ranking of responsive webpages based on importance\n",
    "ranked_responsive_pages = [page for page in importance_ranking if d[page] > 0]\n",
    "\n",
    "# Output results\n",
    "print(\"Google Matrix (G):\")\n",
    "print(G)\n",
    "print(\"\\nPageRank Vector (pi):\")\n",
    "print(pi)\n",
    "print(\"\\nModified Google Matrix (G_tilde):\")\n",
    "print(G_tilde)\n",
    "print(\"\\nModified PageRank Vector (pi_tilde):\")\n",
    "print(pi_tilde)\n",
    "print(\"\\nQuery Vector (q):\")\n",
    "print(q)\n",
    "print(\"\\nTerm-Document Matrix (T):\")\n",
    "print(T)\n",
    "print(\"\\nResponsiveness Vector (d):\")\n",
    "print(d)\n",
    "print(\"\\nFinal Ranking of Responsive Webpages:\")\n",
    "print(ranked_responsive_pages)"
   ]
  }
 ],
 "metadata": {
  "kernelspec": {
   "display_name": "Python 3",
   "language": "python",
   "name": "python3"
  },
  "language_info": {
   "codemirror_mode": {
    "name": "ipython",
    "version": 3
   },
   "file_extension": ".py",
   "mimetype": "text/x-python",
   "name": "python",
   "nbconvert_exporter": "python",
   "pygments_lexer": "ipython3",
   "version": "3.10.1"
  }
 },
 "nbformat": 4,
 "nbformat_minor": 2
}
