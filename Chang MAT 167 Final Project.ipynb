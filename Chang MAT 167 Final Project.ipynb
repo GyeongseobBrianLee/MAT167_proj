{
 "cells": [
  {
   "cell_type": "code",
   "execution_count": 25,
   "metadata": {},
   "outputs": [],
   "source": [
    "# 1. Define the raw Google Matrix, G\n",
    "\n",
    "import numpy as np\n",
    "\n",
    "G = np.array([\n",
    "    [0, 1/2, 0, 0, 1/2, 0, 0, 0, 0, 0, 0, 0],       # A\n",
    "    [1/3, 0, 1/3, 1/3, 0, 0, 0, 0, 0, 0, 0, 0],     # B\n",
    "    [0, 1/2, 0, 1/2, 0, 0, 0, 0, 0, 0, 0, 0],       # C\n",
    "    [1/3, 0, 0, 0, 0, 1/3, 0, 0, 1/3, 0, 0, 0],     # D\n",
    "    [0, 0, 0, 1/2, 0, 0, 0, 1/2, 0, 0, 0, 0],       # E\n",
    "    [0, 0, 0, 0, 1/2, 0, 0, 0, 1/2, 0, 0, 0],       # F\n",
    "    [0, 0, 1/4, 1/4, 0, 0, 0, 0, 1/4, 0, 0, 1/4],   # G\n",
    "    [0, 0, 0, 0, 1/5, 1/5, 0, 0, 1/5, 1/5, 1/5, 0], # H\n",
    "    [0, 0, 0, 0, 0, 0, 0, 0, 0, 0, 0, 1],           # I\n",
    "    [0, 0, 0, 0, 0, 0, 0, 0, 0, 0, 0, 0],           # J\n",
    "    [0, 0, 0, 0, 0, 0, 0, 0, 1/3, 1/3, 0, 1/3],     # K\n",
    "    [0, 0, 0, 0, 0, 0, 1, 0, 0, 0, 0, 0]            # L\n",
    "])\n"
   ]
  },
  {
   "cell_type": "code",
   "execution_count": 26,
   "metadata": {},
   "outputs": [],
   "source": [
    "\n",
    "# 2. Fix dangling nodes (rows with all zeros), and normalize\n",
    "n = G.shape[0]\n",
    "for i in range(n):\n",
    "    if np.sum(G[i, :]) == 0:\n",
    "        G[i, :] = 1 / n  # Distribute to all nodes\n",
    "\n",
    "# Normalize G to ensure all rows sum to 1\n",
    "G = G / G.sum(axis=1, keepdims=True)\n",
    "\n"
   ]
  },
  {
   "cell_type": "code",
   "execution_count": 27,
   "metadata": {},
   "outputs": [],
   "source": [
    "# 3. Power method to find the principal eigenvector (PageRank vector)\n",
    "def power_method(G, eps=1e-6, max_iter=100):\n",
    "    n = G.shape[0]\n",
    "    pi = np.ones(n) / n\n",
    "    for i in range(max_iter):\n",
    "        pi_new = G.T @ pi\n",
    "        if np.linalg.norm(pi_new - pi, 1) < eps:\n",
    "            break\n",
    "        pi = pi_new\n",
    "    return pi / np.sum(pi)\n",
    "\n",
    "pi = power_method(G)\n"
   ]
  },
  {
   "cell_type": "code",
   "execution_count": 28,
   "metadata": {},
   "outputs": [],
   "source": [
    "\n",
    "# 4. Construct the modified Google matrix with teleportation\n",
    "alpha = 0.85\n",
    "E = np.ones((n, n)) / n\n",
    "G_tilde = alpha * G + (1 - alpha) * E\n"
   ]
  },
  {
   "cell_type": "code",
   "execution_count": 29,
   "metadata": {},
   "outputs": [],
   "source": [
    "\n",
    "# 5. Power method on G_tilde\n",
    "pi_tilde = power_method(G_tilde)\n"
   ]
  },
  {
   "cell_type": "code",
   "execution_count": 30,
   "metadata": {},
   "outputs": [],
   "source": [
    "\n",
    "# 6. Normalization\n",
    "pi = pi / np.sum(pi)\n",
    "pi_tilde = pi_tilde / np.sum(pi_tilde)\n"
   ]
  },
  {
   "cell_type": "code",
   "execution_count": 31,
   "metadata": {},
   "outputs": [],
   "source": [
    "\n",
    "# 7. Keyword data\n",
    "keywords = [\n",
    "    [\"Apples\", \"Bananas\", \"Broccoli\", \"Cabbage\", \"Kumquats\", \"Strawberries\"],                # Page A,0\n",
    "    [\"Oranges\", \"Plums\", \"Coconuts\", \"Kumquats\", \"Blueberries\", \"Cherries\", \"Strawberries\"], # Page B,1\n",
    "    [\"Lettuce\", \"Spinach\", \"Bananas\", \"Blackberries\", \"Peas\", \"Strawberries\"],               # Page C,2\n",
    "    [\"Oranges\", \"Onions\", \"Celery\", \"Kumquats\", \"Corn\", \"Radishes\"],                         # Page D,3\n",
    "    [\"Pineapples\", \"Plums\", \"Corn\", \"Cherries\", \"Broccoli\", \"Peas\", \"Strawberries\"],         # Page E,4\n",
    "    [\"Lettuce\", \"Onions\", \"Coconuts\", \"Spinach\", \"Peas\", \"Strawberries\"],                    # Page F,5\n",
    "    [\"Apples\", \"Onions\", \"Broccoli\", \"Corn\", \"Cabbage\", \"Peas\"],                             # Page G,6\n",
    "    [\"Plums\", \"Blueberries\", \"Raspberries\", \"Blackberries\", \"Strawberries\"],                 # Page H,7\n",
    "    [\"Apples\", \"Cucumbers\", \"Carrots\", \"Spinach\", \"Corn\", \"Black Beans\", \"Cabbage\"],         # Page I,8\n",
    "    [\"Mushrooms\", \"Carrots\", \"Lettuce\", \"Radishes\", \"Peppers\", \"Broccoli\", \"Spinach\"],       # Page J,9\n",
    "    [\"Carrots\", \"Lettuce\", \"Celery\", \"Onions\", \"Cabbage\", \"Peas\"],                           # Page K,10\n",
    "    [\"Broccoli\", \"Cabbage\", \"Carrots\", \"Spinach\", \"Corn\", \"Peas\"]                            # Page L,11\n",
    "]\n",
    "\n",
    "# User query\n",
    "query = [\"Apples\", \"Bananas\", \"Broccoli\", \"Blueberries\", \"Blackberries\", \"Black Beans\", \"Cabbage\", \"Carrots\", \"Celery\", \"Cherries\", \"Coconuts\", \"Corn\", \"Cucumbers\", \"Kumquats\", \"Lettuce\", \"Mushrooms\", \"Onions\", \"Oranges\", \"Peas\", \"Peppers\", \"Pineapples\", \"Plums\", \"Radishes\", \"Raspberries\", \"Spinach\", \"Strawberries\"]\n"
   ]
  },
  {
   "cell_type": "code",
   "execution_count": 32,
   "metadata": {},
   "outputs": [],
   "source": [
    "\n",
    "# 8. Construct Term-Document Matrix T\n",
    "terms = list(set([term for sublist in keywords for term in sublist]))  # Unique terms\n",
    "T = np.zeros((len(terms), n))\n",
    "for j in range(n):\n",
    "    for term in keywords[j]:\n",
    "        i = terms.index(term)\n",
    "        T[i, j] = 1\n"
   ]
  },
  {
   "cell_type": "code",
   "execution_count": 33,
   "metadata": {},
   "outputs": [],
   "source": [
    "\n",
    "# 9. Create query vector q\n",
    "q = np.zeros(len(terms))\n",
    "for term in query:\n",
    "    if term in terms:\n",
    "        q[terms.index(term)] = 1\n"
   ]
  },
  {
   "cell_type": "code",
   "execution_count": 34,
   "metadata": {},
   "outputs": [],
   "source": [
    "\n",
    "# 10. Compute dᵀ = qᵀ T\n",
    "d = q.T @ T\n"
   ]
  },
  {
   "cell_type": "code",
   "execution_count": 35,
   "metadata": {},
   "outputs": [],
   "source": [
    "\n",
    "# 11. Rank webpages by importance and responsiveness\n",
    "responsive_pages = np.argsort(-d)\n",
    "importance_ranking = np.argsort(-pi_tilde)\n"
   ]
  },
  {
   "cell_type": "code",
   "execution_count": 36,
   "metadata": {},
   "outputs": [
    {
     "name": "stdout",
     "output_type": "stream",
     "text": [
      "Google Matrix (G):\n",
      "[[0.         0.5        0.         0.         0.5        0.\n",
      "  0.         0.         0.         0.         0.         0.        ]\n",
      " [0.33333333 0.         0.33333333 0.33333333 0.         0.\n",
      "  0.         0.         0.         0.         0.         0.        ]\n",
      " [0.         0.5        0.         0.5        0.         0.\n",
      "  0.         0.         0.         0.         0.         0.        ]\n",
      " [0.33333333 0.         0.         0.         0.         0.33333333\n",
      "  0.         0.         0.33333333 0.         0.         0.        ]\n",
      " [0.         0.         0.         0.5        0.         0.\n",
      "  0.         0.5        0.         0.         0.         0.        ]\n",
      " [0.         0.         0.         0.         0.5        0.\n",
      "  0.         0.         0.5        0.         0.         0.        ]\n",
      " [0.         0.         0.25       0.25       0.         0.\n",
      "  0.         0.         0.25       0.         0.         0.25      ]\n",
      " [0.         0.         0.         0.         0.2        0.2\n",
      "  0.         0.         0.2        0.2        0.2        0.        ]\n",
      " [0.         0.         0.         0.         0.         0.\n",
      "  0.         0.         0.         0.         0.         1.        ]\n",
      " [0.08333333 0.08333333 0.08333333 0.08333333 0.08333333 0.08333333\n",
      "  0.08333333 0.08333333 0.08333333 0.08333333 0.08333333 0.08333333]\n",
      " [0.         0.         0.         0.         0.         0.\n",
      "  0.         0.         0.33333333 0.33333333 0.         0.33333333]\n",
      " [0.         0.         0.         0.         0.         0.\n",
      "  1.         0.         0.         0.         0.         0.        ]]\n",
      "\n",
      "PageRank Vector (pi):\n",
      "[0.06982991 0.06982992 0.06803934 0.13697408 0.06982984 0.0537153\n",
      " 0.17547003 0.03581026 0.12712615 0.01074305 0.00805729 0.17457483]\n",
      "\n",
      "Modified Google Matrix (G_tilde):\n",
      "[[0.0125     0.4375     0.0125     0.0125     0.4375     0.0125\n",
      "  0.0125     0.0125     0.0125     0.0125     0.0125     0.0125    ]\n",
      " [0.29583333 0.0125     0.29583333 0.29583333 0.0125     0.0125\n",
      "  0.0125     0.0125     0.0125     0.0125     0.0125     0.0125    ]\n",
      " [0.0125     0.4375     0.0125     0.4375     0.0125     0.0125\n",
      "  0.0125     0.0125     0.0125     0.0125     0.0125     0.0125    ]\n",
      " [0.29583333 0.0125     0.0125     0.0125     0.0125     0.29583333\n",
      "  0.0125     0.0125     0.29583333 0.0125     0.0125     0.0125    ]\n",
      " [0.0125     0.0125     0.0125     0.4375     0.0125     0.0125\n",
      "  0.0125     0.4375     0.0125     0.0125     0.0125     0.0125    ]\n",
      " [0.0125     0.0125     0.0125     0.0125     0.4375     0.0125\n",
      "  0.0125     0.0125     0.4375     0.0125     0.0125     0.0125    ]\n",
      " [0.0125     0.0125     0.225      0.225      0.0125     0.0125\n",
      "  0.0125     0.0125     0.225      0.0125     0.0125     0.225     ]\n",
      " [0.0125     0.0125     0.0125     0.0125     0.1825     0.1825\n",
      "  0.0125     0.0125     0.1825     0.1825     0.1825     0.0125    ]\n",
      " [0.0125     0.0125     0.0125     0.0125     0.0125     0.0125\n",
      "  0.0125     0.0125     0.0125     0.0125     0.0125     0.8625    ]\n",
      " [0.08333333 0.08333333 0.08333333 0.08333333 0.08333333 0.08333333\n",
      "  0.08333333 0.08333333 0.08333333 0.08333333 0.08333333 0.08333333]\n",
      " [0.0125     0.0125     0.0125     0.0125     0.0125     0.0125\n",
      "  0.0125     0.0125     0.29583333 0.29583333 0.0125     0.29583333]\n",
      " [0.0125     0.0125     0.0125     0.0125     0.0125     0.0125\n",
      "  0.8625     0.0125     0.0125     0.0125     0.0125     0.0125    ]]\n",
      "\n",
      "Modified PageRank Vector (pi_tilde):\n",
      "[0.07158147 0.07325076 0.06650948 0.12799415 0.07816064 0.05894977\n",
      " 0.14679015 0.04778031 0.12162382 0.02911213 0.02268477 0.15556255]\n",
      "\n",
      "Query Vector (q):\n",
      "[1. 1. 1. 1. 1. 1. 1. 1. 1. 1. 1. 1. 1. 1. 1. 1. 1. 1. 1. 1. 1. 1. 1. 1.\n",
      " 1. 1.]\n",
      "\n",
      "Term-Document Matrix (T):\n",
      "[[1. 0. 0. 0. 0. 0. 1. 0. 1. 0. 0. 0.]\n",
      " [0. 1. 0. 0. 0. 0. 0. 1. 0. 0. 0. 0.]\n",
      " [1. 1. 0. 1. 0. 0. 0. 0. 0. 0. 0. 0.]\n",
      " [0. 0. 0. 1. 1. 0. 1. 0. 1. 0. 0. 1.]\n",
      " [0. 0. 0. 0. 0. 0. 0. 0. 1. 0. 0. 0.]\n",
      " [0. 0. 0. 0. 0. 0. 0. 0. 0. 1. 0. 0.]\n",
      " [0. 1. 0. 0. 0. 1. 0. 0. 0. 0. 0. 0.]\n",
      " [0. 0. 0. 0. 0. 0. 0. 0. 1. 1. 1. 1.]\n",
      " [0. 0. 1. 0. 1. 1. 1. 0. 0. 0. 1. 1.]\n",
      " [0. 0. 0. 0. 0. 0. 0. 1. 0. 0. 0. 0.]\n",
      " [1. 0. 0. 0. 0. 0. 1. 0. 1. 0. 1. 1.]\n",
      " [0. 1. 0. 0. 1. 0. 0. 0. 0. 0. 0. 0.]\n",
      " [0. 0. 1. 0. 0. 0. 0. 1. 0. 0. 0. 0.]\n",
      " [0. 0. 1. 0. 0. 1. 0. 0. 0. 1. 1. 0.]\n",
      " [0. 1. 0. 1. 0. 0. 0. 0. 0. 0. 0. 0.]\n",
      " [0. 0. 0. 1. 0. 0. 0. 0. 0. 1. 0. 0.]\n",
      " [1. 0. 0. 0. 1. 0. 1. 0. 0. 1. 0. 1.]\n",
      " [0. 0. 0. 0. 1. 0. 0. 0. 0. 0. 0. 0.]\n",
      " [1. 0. 1. 0. 0. 0. 0. 0. 0. 0. 0. 0.]\n",
      " [0. 0. 0. 1. 0. 1. 1. 0. 0. 0. 1. 0.]\n",
      " [0. 0. 1. 0. 0. 1. 0. 0. 1. 1. 0. 1.]\n",
      " [0. 0. 0. 1. 0. 0. 0. 0. 0. 0. 1. 0.]\n",
      " [0. 0. 0. 0. 0. 0. 0. 0. 0. 1. 0. 0.]\n",
      " [0. 0. 0. 0. 0. 0. 0. 0. 1. 0. 0. 0.]\n",
      " [0. 1. 0. 0. 1. 0. 0. 1. 0. 0. 0. 0.]\n",
      " [1. 1. 1. 0. 1. 1. 0. 1. 0. 0. 0. 0.]]\n",
      "\n",
      "Responsiveness Vector (d):\n",
      "[6. 7. 6. 6. 7. 6. 6. 5. 7. 7. 6. 6.]\n",
      "\n",
      "Final Ranking of Responsive Webpages:\n",
      "[11, 6, 3, 8, 4, 1, 0, 2, 5, 7, 9, 10]\n"
     ]
    }
   ],
   "source": [
    "\n",
    "# 12. Final ranking of responsive webpages based on importance\n",
    "ranked_responsive_pages = [page for page in importance_ranking if d[page] > 0]\n",
    "\n",
    "# Output results\n",
    "print(\"Google Matrix (G):\")\n",
    "print(G)\n",
    "print(\"\\nPageRank Vector (pi):\")\n",
    "print(pi)\n",
    "print(\"\\nModified Google Matrix (G_tilde):\")\n",
    "print(G_tilde)\n",
    "print(\"\\nModified PageRank Vector (pi_tilde):\")\n",
    "print(pi_tilde)\n",
    "print(\"\\nQuery Vector (q):\")\n",
    "print(q)\n",
    "print(\"\\nTerm-Document Matrix (T):\")\n",
    "print(T)\n",
    "print(\"\\nResponsiveness Vector (d):\")\n",
    "print(d)\n",
    "print(\"\\nFinal Ranking of Responsive Webpages:\")\n",
    "print(ranked_responsive_pages)"
   ]
  }
 ],
 "metadata": {
  "kernelspec": {
   "display_name": "Python 3",
   "language": "python",
   "name": "python3"
  },
  "language_info": {
   "codemirror_mode": {
    "name": "ipython",
    "version": 3
   },
   "file_extension": ".py",
   "mimetype": "text/x-python",
   "name": "python",
   "nbconvert_exporter": "python",
   "pygments_lexer": "ipython3",
   "version": "3.10.1"
  }
 },
 "nbformat": 4,
 "nbformat_minor": 2
}
