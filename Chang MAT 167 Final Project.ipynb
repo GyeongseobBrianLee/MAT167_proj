{
 "cells": [
  {
   "cell_type": "code",
   "execution_count": 1,
   "metadata": {},
   "outputs": [
    {
     "name": "stdout",
     "output_type": "stream",
     "text": [
      "Dominant eigenvector (PageRank vector): []\n",
      "Eigenvalues: [ 0.        +0.j          0.99057675+0.j          0.54352322+0.20239006j\n",
      "  0.54352322-0.20239006j -0.11200556+0.53180378j -0.11200556-0.53180378j\n",
      " -0.47778499+0.45864795j -0.47778499-0.45864795j -0.53254921+0.j\n",
      "  0.08742385+0.j         -0.22645837+0.07939335j -0.22645837-0.07939335j]\n",
      "Page Ranking: []\n"
     ]
    }
   ],
   "source": [
    "import numpy as np\n",
    "\n",
    "G = np.array([\n",
    "    [0, 1/2, 0, 0, 1/2, 0, 0, 0, 0, 0, 0, 0],       # A\n",
    "    [1/3, 0, 1/3, 1/3, 0, 0, 0, 0, 0, 0, 0, 0],     # B\n",
    "    [0, 1/2, 0, 1/2, 0, 0, 0, 0, 0, 0, 0, 0],       # C\n",
    "    [1/3, 0, 0, 0, 0, 1/3, 0, 0, 1/3, 0, 0, 0],     # D\n",
    "    [0, 0, 0, 1/2, 0, 0, 0, 1/2, 0, 0, 0, 0],       # E\n",
    "    [0, 0, 0, 0, 1/2, 0, 0, 0, 1/2, 0, 0, 0],       # F\n",
    "    [0, 0, 1/4, 1/4, 0, 0, 0, 0, 1/4, 0, 0, 1/4],   # G\n",
    "    [0, 0, 0, 0, 1/5, 1/5, 0, 0, 1/5, 1/5, 1/5, 0], # H\n",
    "    [0, 0, 0, 0, 0, 0, 0, 0, 0, 0, 0, 1],           # I\n",
    "    [0, 0, 0, 0, 0, 0, 0, 0, 0, 0, 0, 0],           # J\n",
    "    [0, 0, 0, 0, 0, 0, 0, 0, 1/3, 1/3, 0, 1/3],     # K\n",
    "    [0, 0, 0, 0, 0, 0, 1, 0, 0, 0, 0, 0]            # L\n",
    "])\n",
    "\n",
    "#E: Transpose\n",
    "G_T = G.T\n",
    "\n",
    "#F: Eigenvalues and eigenvectors\n",
    "eigenvalues, eigenvectors = np.linalg.eig(G_T)\n",
    "\n",
    "#G: Dominant eigenvector (corresponding to eigenvalue 1)\n",
    "dominant_eigenvector = eigenvectors[:, np.isclose(eigenvalues, 1)].flatten()\n",
    "\n",
    "dominant_eigenvector = np.real(dominant_eigenvector)\n",
    "\n",
    "#H: Normalize dominant eigenvector\n",
    "dominant_eigenvector /= np.sum(dominant_eigenvector)\n",
    "\n",
    "# All entries are positive?\n",
    "if np.any(dominant_eigenvector < 0):\n",
    "    dominant_eigenvector = -dominant_eigenvector\n",
    "\n",
    "print(\"Dominant eigenvector (PageRank vector):\", dominant_eigenvector)\n",
    "print(\"Eigenvalues:\", eigenvalues)\n",
    "\n",
    "#I: Ranking pages\n",
    "ranking = np.argsort(dominant_eigenvector)[::-1]  \n",
    "pages = ['A', 'B', 'C', 'D', 'E', 'F', 'G', 'H', 'I', 'J', 'K', 'L']\n",
    "ranked_pages = [pages[i] for i in ranking]\n",
    "\n",
    "print(\"Page Ranking:\", ranked_pages)"
   ]
  },
  {
   "cell_type": "code",
   "execution_count": 2,
   "metadata": {},
   "outputs": [
    {
     "data": {
      "text/plain": [
       "array([1., 1., 1., 1., 1., 1., 1., 1., 1., 0., 1., 1.])"
      ]
     },
     "execution_count": 2,
     "metadata": {},
     "output_type": "execute_result"
    }
   ],
   "source": [
    "#1)\n",
    "\n",
    "import numpy as np\n",
    "\n",
    "G = np.array([\n",
    "    [0, 1/2, 0, 0, 1/2, 0, 0, 0, 0, 0, 0, 0],       # A\n",
    "    [1/3, 0, 1/3, 1/3, 0, 0, 0, 0, 0, 0, 0, 0],     # B\n",
    "    [0, 1/2, 0, 1/2, 0, 0, 0, 0, 0, 0, 0, 0],       # C\n",
    "    [1/3, 0, 0, 0, 0, 1/3, 0, 0, 1/3, 0, 0, 0],     # D\n",
    "    [0, 0, 0, 1/2, 0, 0, 0, 1/2, 0, 0, 0, 0],       # E\n",
    "    [0, 0, 0, 0, 1/2, 0, 0, 0, 1/2, 0, 0, 0],       # F\n",
    "    [0, 0, 1/4, 1/4, 0, 0, 0, 0, 1/4, 0, 0, 1/4],   # G\n",
    "    [0, 0, 0, 0, 1/5, 1/5, 0, 0, 1/5, 1/5, 1/5, 0], # H\n",
    "    [0, 0, 0, 0, 0, 0, 0, 0, 0, 0, 0, 1],           # I\n",
    "    [0, 0, 0, 0, 0, 0, 0, 0, 0, 0, 0, 0],           # J\n",
    "    [0, 0, 0, 0, 0, 0, 0, 0, 1/3, 1/3, 0, 1/3],     # K\n",
    "    [0, 0, 0, 0, 0, 0, 1, 0, 0, 0, 0, 0]            # L\n",
    "])\n",
    "\n",
    "# Check row sums\n",
    "row_sums = G.sum(axis=1)\n",
    "row_sums"
   ]
  },
  {
   "cell_type": "code",
   "execution_count": 3,
   "metadata": {},
   "outputs": [
    {
     "data": {
      "text/plain": [
       "array([0.06974077, 0.06964627, 0.06823918, 0.13760448, 0.06918413,\n",
       "       0.05335517, 0.17752289, 0.03492114, 0.12746202, 0.00942325,\n",
       "       0.00705067, 0.17585004])"
      ]
     },
     "execution_count": 3,
     "metadata": {},
     "output_type": "execute_result"
    }
   ],
   "source": [
    "#2)\n",
    "\n",
    "# Eigenvalue decomposition\n",
    "eigvals, eigvecs = np.linalg.eig(G.T)\n",
    "\n",
    "# Find the eigenvector corresponding to the eigenvalue 1\n",
    "eig_index = np.argmin(np.abs(eigvals - 1))\n",
    "pi = eigvecs[:, eig_index].real\n",
    "\n",
    "# Normalize the eigenvector\n",
    "pi = pi / np.sum(pi)\n",
    "pi"
   ]
  },
  {
   "cell_type": "code",
   "execution_count": 4,
   "metadata": {},
   "outputs": [
    {
     "data": {
      "text/plain": [
       "array([0.0698299 , 0.0698299 , 0.06803939, 0.13697404, 0.0698299 ,\n",
       "       0.05371531, 0.17547001, 0.03581021, 0.12712623, 0.01074306,\n",
       "       0.0080573 , 0.17457475])"
      ]
     },
     "execution_count": 4,
     "metadata": {},
     "output_type": "execute_result"
    }
   ],
   "source": [
    "#3)\n",
    "\n",
    "# Fix dangling nodes\n",
    "dangling_nodes = np.where(row_sums == 0)[0]\n",
    "for node in dangling_nodes:\n",
    "    G[node, :] = 1 / G.shape[1]\n",
    "\n",
    "# Recompute row sums to ensure they sum to 1\n",
    "G = G / G.sum(axis=1, keepdims=True)\n",
    "\n",
    "# Eigenvalue decomposition again\n",
    "eigvals, eigvecs = np.linalg.eig(G.T)\n",
    "\n",
    "# Find the eigenvector corresponding to the eigenvalue 1\n",
    "eig_index = np.argmin(np.abs(eigvals - 1))\n",
    "pi = eigvecs[:, eig_index].real\n",
    "\n",
    "# Normalize the eigenvector\n",
    "pi = pi / np.sum(pi)\n",
    "pi"
   ]
  },
  {
   "cell_type": "code",
   "execution_count": 6,
   "metadata": {},
   "outputs": [
    {
     "data": {
      "text/plain": [
       "array([0.0715815 , 0.07325075, 0.06650942, 0.12799417, 0.07816056,\n",
       "       0.05894978, 0.14679029, 0.04778035, 0.12162373, 0.02911212,\n",
       "       0.02268477, 0.15556256])"
      ]
     },
     "execution_count": 6,
     "metadata": {},
     "output_type": "execute_result"
    }
   ],
   "source": [
    "#4)\n",
    "\n",
    "alpha = 0.85\n",
    "n = G.shape[1]\n",
    "E = np.ones((n, n)) / n\n",
    "G_tilde = alpha * G + (1 - alpha) * E\n",
    "\n",
    "# Eigenvalue decomposition of G_tilde\n",
    "eigvals, eigvecs = np.linalg.eig(G_tilde.T)\n",
    "\n",
    "# Find the eigenvector corresponding to the eigenvalue 1\n",
    "eig_index = np.argmin(np.abs(eigvals - 1))\n",
    "pi_tilde = eigvecs[:, eig_index].real\n",
    "\n",
    "# Normalize the eigenvector\n",
    "pi_tilde = pi_tilde / np.sum(pi_tilde)\n",
    "pi_tilde"
   ]
  },
  {
   "cell_type": "code",
   "execution_count": 8,
   "metadata": {},
   "outputs": [
    {
     "data": {
      "text/plain": [
       "array([6, 3, 8, 1, 0], dtype=int64)"
      ]
     },
     "execution_count": 8,
     "metadata": {},
     "output_type": "execute_result"
    }
   ],
   "source": [
    "#5)\n",
    "\n",
    "# Term-document matrix (T) and query vector (q)\n",
    "keywords = [\n",
    "    [\"Apples\", \"Bananas\", \"Broccoli\", \"Cabbage\", \"Kumquats\", \"Strawberries\"],  # Page A\n",
    "    [\"Oranges\", \"Plums\", \"Coconuts\", \"Kumquats\", \"Blueberries\", \"Cherries\", \"Strawberries\"],  # Page B\n",
    "    [\"Lettuce\", \"Spinach\", \"Bananas\", \"Blackberries\", \"Peas\", \"Strawberries\"],  # Page C\n",
    "    [\"Oranges\", \"Onions\", \"Celery\", \"Kumquats\", \"Corn\", \"Radishes\"],  # Page D\n",
    "    [\"Pineapples\", \"Plums\", \"Corn\", \"Cherries\", \"Broccoli\", \"Peas\", \"Strawberries\"],              # Page E\n",
    "    [\"Lettuce\", \"Onions\", \"Coconuts\", \"Spinach\", \"Peas\", \"Strawberries\"],              # Page F\n",
    "    [\"Apples\", \"Onions\", \"Broccoli\", \"Corn\", \"Cabbage\", \"Peas\"],  # Page G\n",
    "    [\"Plums\", \"Blueberries\", \"Raspberries\", \"Blackberries\", \"Strawberries\"],              # Page H\n",
    "    [\"Apples\", \"Cucumbers\", \"Carrots\", \"Spinach\", \"Corn\", \"Black Beans\", \"Cabbage\"],              # Page I\n",
    "    [\"Mushrooms\", \"Carrots\", \"Lettuce\", \"Radishes\", \"Peppers\", \"Broccoli\", \"Spinach\"],             # Page J\n",
    "    [\"Carrots\", \"Lettuce\", \"Celery\", \"Onions\", \"Cabbage\", \"Peas\"], # Page K\n",
    "    [\"Broccoli\", \"Cabbage\", \"Carrots\", \"Spinach\", \"Corn\", \"Peas\"]              # Page L\n",
    "]\n",
    "\n",
    "# Creating the term-document matrix T\n",
    "all_keywords = list(set(sum(keywords, [])))\n",
    "T = np.zeros((len(all_keywords), len(keywords)))\n",
    "\n",
    "for j, page_keywords in enumerate(keywords):\n",
    "    for keyword in page_keywords:\n",
    "        i = all_keywords.index(keyword)\n",
    "        T[i, j] = 1\n",
    "\n",
    "# Example user query\n",
    "query_keywords = [\"Apples\", \"Oranges\"]\n",
    "q = np.zeros(len(all_keywords))\n",
    "for keyword in query_keywords:\n",
    "    if keyword in all_keywords:\n",
    "        i = all_keywords.index(keyword)\n",
    "        q[i] = 1\n",
    "\n",
    "# Compute d^T = q^T T\n",
    "d = np.dot(q, T)\n",
    "\n",
    "# Responsive webpages\n",
    "responsive_webpages = np.where(d > 0)[0]\n",
    "\n",
    "# Rank the responsive webpages using pi_tilde\n",
    "pi_tilde = pi_tilde\n",
    "responsive_ranking = np.argsort(-pi_tilde[responsive_webpages])\n",
    "responsive_webpages_ranked = responsive_webpages[responsive_ranking]\n",
    "\n",
    "responsive_webpages_ranked"
   ]
  },
  {
   "cell_type": "code",
   "execution_count": null,
   "metadata": {},
   "outputs": [],
   "source": []
  },
  {
   "cell_type": "code",
   "execution_count": null,
   "metadata": {},
   "outputs": [],
   "source": []
  },
  {
   "cell_type": "code",
   "execution_count": null,
   "metadata": {},
   "outputs": [],
   "source": []
  },
  {
   "cell_type": "code",
   "execution_count": null,
   "metadata": {},
   "outputs": [],
   "source": []
  },
  {
   "cell_type": "code",
   "execution_count": null,
   "metadata": {},
   "outputs": [],
   "source": []
  },
  {
   "cell_type": "code",
   "execution_count": null,
   "metadata": {},
   "outputs": [],
   "source": []
  },
  {
   "cell_type": "code",
   "execution_count": null,
   "metadata": {},
   "outputs": [],
   "source": []
  },
  {
   "cell_type": "code",
   "execution_count": null,
   "metadata": {},
   "outputs": [],
   "source": []
  },
  {
   "cell_type": "code",
   "execution_count": null,
   "metadata": {},
   "outputs": [],
   "source": []
  },
  {
   "cell_type": "code",
   "execution_count": null,
   "metadata": {},
   "outputs": [],
   "source": []
  }
 ],
 "metadata": {
  "kernelspec": {
   "display_name": "Python 3",
   "language": "python",
   "name": "python3"
  },
  "language_info": {
   "codemirror_mode": {
    "name": "ipython",
    "version": 3
   },
   "file_extension": ".py",
   "mimetype": "text/x-python",
   "name": "python",
   "nbconvert_exporter": "python",
   "pygments_lexer": "ipython3",
   "version": "3.10.1"
  }
 },
 "nbformat": 4,
 "nbformat_minor": 2
}
